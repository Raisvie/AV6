{
 "cells": [
  {
   "cell_type": "markdown",
   "metadata": {},
   "source": [
    "Considere um sistema de equações lineares com duas equações e duas incógnitas:\n",
    "\n",
    "ax+by=e\n",
    "\n",
    "cx+dy=f"
   ]
  },
  {
   "cell_type": "markdown",
   "metadata": {},
   "source": [
    "a)\n",
    "Escreva um programa que recebe como entrada os coeficientes a,b,c,d,e,f e resolve o sistema acima utilizando a regra de Cramer, que afirma:\n",
    "\n",
    "x=ed−bf / ad−bc\n",
    "\n",
    "y=af−ec / ad−bc\n",
    "\n",
    "Utilize o seu programa para resolver o seguinte sistema:\n",
    "\n",
    "{1.000x+1.000y=2.000\n",
    "\n",
    "1.000x+1.001y=2.001"
   ]
  },
  {
   "cell_type": "code",
   "execution_count": 1,
   "metadata": {},
   "outputs": [],
   "source": [
    "import numpy as np"
   ]
  },
  {
   "cell_type": "code",
   "execution_count": null,
   "metadata": {},
   "outputs": [],
   "source": [
    "### Entrada de coeficientes\n",
    "## interação ao usuario??\n",
    "## declarar coefiencientes\n",
    "\n",
    "a = int\n",
    "b = int\n",
    "c = int\n",
    "d = int\n"
   ]
  },
  {
   "cell_type": "code",
   "execution_count": null,
   "metadata": {},
   "outputs": [],
   "source": [
    "a = 1\n",
    "b = 2\n",
    "c = 3\n",
    "d = 4\n",
    "e = 5\n",
    "f = 6"
   ]
  },
  {
   "cell_type": "code",
   "execution_count": null,
   "metadata": {},
   "outputs": [],
   "source": [
    "## regra de Cramer\n",
    "'''\n",
    "x=ed−bf / ad−bc\n",
    "\n",
    "y=af−ec / ad−bc\n",
    "'''\n",
    "\n",
    "numeradorX = ((e*d)-(b*f))\n",
    "\n",
    "denominadorX = ((a*d)-(b*c))\n",
    "\n",
    "x = numeradorX / denominadorX\n",
    "\n",
    "\n",
    "numeradorY = ((a*f)-(e*c))\n",
    "\n",
    "denominadorY = ((a*d)-(b*c))\n",
    "\n",
    "y = numeradorY / denominadorY"
   ]
  },
  {
   "cell_type": "code",
   "execution_count": null,
   "metadata": {},
   "outputs": [],
   "source": [
    "def Calculte_X():\n",
    "    "
   ]
  },
  {
   "cell_type": "code",
   "execution_count": null,
   "metadata": {},
   "outputs": [],
   "source": [
    "'''\n",
    "1.000x+1.000y=2.000\n",
    "\n",
    "1.000x+1.001y=2.001\n",
    "\n",
    "Criar a matrix com os valores para aplicar a regra de Cramer\n",
    "'''\n",
    "\n",
    "## contador para analisar o tamanho da matrix N x N\n",
    "\n",
    "N = 3\n",
    "matrix_zeros = np.zeros((N,N), dtype=float)\n",
    "\n",
    "m = matrix_zeros\n",
    "\n",
    "for i in range(len(m)):\n",
    "    for j in range(len(m)):\n",
    "        if(i == j):\n",
    "            m[i][i] = 0"
   ]
  },
  {
   "cell_type": "code",
   "execution_count": 11,
   "metadata": {},
   "outputs": [
    {
     "name": "stdout",
     "output_type": "stream",
     "text": [
      "['1.000', '+1.000y=2.000']\n",
      "Numbers in string = 100010002000\n"
     ]
    }
   ],
   "source": [
    "Entrada = \"1.000x+1.000y=2.000\"\n",
    "## quebrar a string e criar vetor (array) separar termos e inserir na matrix de zeros\n",
    "Valores = Entrada.split('x')\n",
    "print(Valores)\n",
    "#word = \"py1t2ho34n\"\n",
    "num = ''.join(filter(lambda x: x.isdigit(), Entrada))\n",
    "print(f\"Numbers in string = {num}\")\n"
   ]
  },
  {
   "cell_type": "code",
   "execution_count": 6,
   "metadata": {},
   "outputs": [
    {
     "name": "stdout",
     "output_type": "stream",
     "text": [
      "['This', 'is', 'a', 'sample', 'string']\n",
      "['apple', 'banana', 'orange']\n",
      "['Hello', 'world', 'how', 'are', 'you?']\n",
      "['one', 'two', 'three four five']\n",
      "[10.0, 25.0, 3.14, 7.0]\n",
      "[<function <lambda> at 0x000001A5D6DB1940>, <function <lambda> at 0x000001A5D6DB1580>, <function <lambda> at 0x000001A5D6DB1440>, <function <lambda> at 0x000001A5D6DB1800>, <function <lambda> at 0x000001A5D6DB1760>]\n"
     ]
    }
   ],
   "source": [
    "# Example 1: Splitting by whitespace (default)\n",
    "my_string = \"This is a sample string\"\n",
    "word_list = my_string.split()\n",
    "print(word_list)\n",
    "\n",
    "# Example 2: Splitting by a specific character (e.g., comma)\n",
    "data_string = \"apple,banana,orange\"\n",
    "fruit_list = data_string.split(',')\n",
    "print(fruit_list)\n",
    "\n",
    "# Example 3: Splitting by a specific string\n",
    "sentence = \"Hello-world-how-are-you?\"\n",
    "parts = sentence.split('-')\n",
    "print(parts)\n",
    "\n",
    "# Example 4: Limiting the number of splits using maxsplit\n",
    "long_string = \"one two three four five\"\n",
    "limited_split = long_string.split(' ', 2) # Splits at most 2 times\n",
    "print(limited_split)\n",
    "\n",
    "s = \"10 25 3.14 7\"\n",
    "numbers_list = list(map(float, s.split()))\n",
    "print(numbers_list)\n",
    "\n",
    "\n",
    "s = \"10 oiiiii 25 3.14 7\"\n",
    "numbers_list = [lambda x: x is float(num_str) for num_str in s.split()]\n",
    "\n",
    "print(numbers_list)"
   ]
  },
  {
   "cell_type": "code",
   "execution_count": 7,
   "metadata": {},
   "outputs": [
    {
     "name": "stdout",
     "output_type": "stream",
     "text": [
      "Numbers in string = 1234\n",
      "Letters in string = python\n"
     ]
    }
   ],
   "source": [
    "word = \"py1t2ho34n\"\n",
    "num = ''.join(filter(lambda x: x.isdigit(), word))\n",
    "letter = ''.join(filter(lambda x: x.isalpha(), word))\n",
    "print(f\"Numbers in string = {num}\")\n",
    "print(f\"Letters in string = {letter}\")\n"
   ]
  }
 ],
 "metadata": {
  "kernelspec": {
   "display_name": "base",
   "language": "python",
   "name": "python3"
  },
  "language_info": {
   "codemirror_mode": {
    "name": "ipython",
    "version": 3
   },
   "file_extension": ".py",
   "mimetype": "text/x-python",
   "name": "python",
   "nbconvert_exporter": "python",
   "pygments_lexer": "ipython3",
   "version": "3.12.7"
  }
 },
 "nbformat": 4,
 "nbformat_minor": 2
}
