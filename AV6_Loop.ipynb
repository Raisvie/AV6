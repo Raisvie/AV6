{
 "cells": [
  {
   "cell_type": "markdown",
   "metadata": {},
   "source": [
    "Mesmo operações simples podem ter tempos de execução diferentes dependendo da forma como são escritas ou implementadas. Neste exercício, você testará a rapidez de comandos simples repetidos muitas vezes, usando o módulo `time`."
   ]
  },
  {
   "cell_type": "markdown",
   "metadata": {},
   "source": [
    "a) Loop de soma simples\n",
    "\n",
    "Escreva um código que calcule a soma de 1+2+3+⋯+N\n",
    " usando um laço `for`, com:\n",
    "\n",
    "```python\n",
    "soma = 0\n",
    "for i in range(1, N+1):\n",
    "    soma += i\n",
    "```\n",
    "\n",
    "Use o módulo `time` para medir o tempo de execução para diferentes valores de N=105,106,107\n",
    "."
   ]
  },
  {
   "cell_type": "code",
   "execution_count": 2,
   "metadata": {},
   "outputs": [],
   "source": [
    "import time ## importar biblioteca"
   ]
  },
  {
   "cell_type": "code",
   "execution_count": 3,
   "metadata": {},
   "outputs": [
    {
     "name": "stdout",
     "output_type": "stream",
     "text": [
      "N =   100000 | Soma = 5000050000      | Tempo = 0.013985 segundos\n",
      "N =  1000000 | Soma = 500000500000    | Tempo = 0.155633 segundos\n",
      "N = 10000000 | Soma = 50000005000000  | Tempo = 1.100556 segundos\n"
     ]
    }
   ],
   "source": [
    "def soma_loop(N):\n",
    "    soma = 0\n",
    "    for i in range(1, N + 1):\n",
    "        soma += i\n",
    "    return soma\n",
    "\n",
    "#valores de N\n",
    "valores_N = [10**5, 10**6, 10**7]\n",
    "\n",
    "for N in valores_N:\n",
    "    inicio = time.time()\n",
    "    resultado = soma_loop(N)\n",
    "    fim = time.time()\n",
    "    tempo_execucao = fim - inicio\n",
    "    print(f\"N = {N:>8} | Soma = {resultado:<15} | Tempo = {tempo_execucao:.6f} segundos\")"
   ]
  },
  {
   "cell_type": "markdown",
   "metadata": {},
   "source": [
    "b) Alternativa com `sum(range(...))`\n",
    "\n",
    "Agora calcule a mesma soma com:\n",
    "\n",
    "```python\n",
    "soma = sum(range(1, N+1))\n",
    "```\n",
    "\n",
    "Compare os tempos com a abordagem do laço `for`. Qual é mais rápida? Por quê?\n",
    "\n",
    "Resposta: o uso do Sum é mais rapido que o for, mais eficiente em velocidade confirme N cresce"
   ]
  },
  {
   "cell_type": "code",
   "execution_count": 5,
   "metadata": {},
   "outputs": [
    {
     "name": "stdout",
     "output_type": "stream",
     "text": [
      "N =   100000 | Soma = 5000050000      | Tempo = 0.000000 segundos\n",
      "N =  1000000 | Soma = 500000500000    | Tempo = 0.066796 segundos\n",
      "N = 10000000 | Soma = 50000005000000  | Tempo = 0.479104 segundos\n"
     ]
    }
   ],
   "source": [
    "def soma_sum_range(N):\n",
    "    return sum(range(1, N + 1))\n",
    "\n",
    "# Mesmos valores de N para comparar\n",
    "valores_N = [10**5, 10**6, 10**7]\n",
    "\n",
    "for N in valores_N:\n",
    "    inicio = time.time()\n",
    "    resultado = soma_sum_range(N)\n",
    "    fim = time.time()\n",
    "    tempo_execucao = fim - inicio\n",
    "    print(f\"N = {N:>8} | Soma = {resultado:<15} | Tempo = {tempo_execucao:.6f} segundos\")"
   ]
  },
  {
   "cell_type": "markdown",
   "metadata": {},
   "source": [
    "c) Fórmula direta\n",
    "\n",
    "Use a fórmula matemática:\n",
    "\n",
    "S=N(N+1)2\n",
    "\n",
    "Implemente-a e meça o tempo. Compare com os métodos anteriores. O que você observa?\n",
    "\n",
    "Resposta: o uso de formula direta é o metodo mais eficiente e rapido pois o codigo executa operações como multiplicação, adição e divisão inteira em nivel nativo, tornando o resultado quase instantâneo"
   ]
  },
  {
   "cell_type": "code",
   "execution_count": 7,
   "metadata": {},
   "outputs": [
    {
     "name": "stdout",
     "output_type": "stream",
     "text": [
      "N =   100000 | Soma = 5000050000      | Tempo = 0.0000000000 segundos\n",
      "N =  1000000 | Soma = 500000500000    | Tempo = 0.0000000000 segundos\n",
      "N = 10000000 | Soma = 50000005000000  | Tempo = 0.0000000000 segundos\n"
     ]
    }
   ],
   "source": [
    "def soma_formula(N):\n",
    "    return N * (N + 1) // 2  # Usando divisão inteira para manter resultado exato\n",
    "\n",
    "valores_N = [10**5, 10**6, 10**7]\n",
    "\n",
    "for N in valores_N:\n",
    "    inicio = time.time()\n",
    "    resultado = soma_formula(N)\n",
    "    fim = time.time()\n",
    "    tempo_execucao = fim - inicio\n",
    "    print(f\"N = {N:>8} | Soma = {resultado:<15} | Tempo = {tempo_execucao:.10f} segundos\")\n",
    "\n"
   ]
  },
  {
   "cell_type": "markdown",
   "metadata": {},
   "source": [
    "d) (Exploração mais desafiadora)\n",
    "\n",
    "Implemente uma função que execute a mesma soma, mas armazenando todos os resultados parciais em uma lista:\n",
    "\n",
    "```python\n",
    "somas = []\n",
    "s = 0\n",
    "for i in range(1, N+1):\n",
    "    s += i\n",
    "    somas.append(s)\n",
    "```\n",
    "\n",
    "- Meça o tempo de execução para diferentes valores de N\n",
    ".\n",
    "- Compare com as outras abordagens.\n",
    "- Discuta: o que faz esse método ser mais lento? O uso de `append()` impacta o desempenho?\n",
    "\n",
    "Resposta: sim impacta pois é necessario adicionar dados a cada interação dobrando o trabalho computacional"
   ]
  },
  {
   "cell_type": "code",
   "execution_count": 8,
   "metadata": {},
   "outputs": [
    {
     "name": "stdout",
     "output_type": "stream",
     "text": [
      "N =   100000 | Última soma = 5000050000      | Tempo = 0.015251 segundos\n",
      "N =  1000000 | Última soma = 500000500000    | Tempo = 0.149895 segundos\n",
      "N = 10000000 | Última soma = 50000005000000  | Tempo = 1.442766 segundos\n"
     ]
    }
   ],
   "source": [
    "def soma_com_acumulado(N):\n",
    "    somas = []\n",
    "    s = 0\n",
    "    for i in range(1, N + 1):\n",
    "        s += i\n",
    "        somas.append(s)\n",
    "    return somas\n",
    "\n",
    "valores_N = [10**5, 10**6, 10**7]\n",
    "\n",
    "for N in valores_N:\n",
    "    inicio = time.time()\n",
    "    resultado = soma_com_acumulado(N)\n",
    "    fim = time.time()\n",
    "    tempo_execucao = fim - inicio\n",
    "    print(f\"N = {N:>8} | Última soma = {resultado[-1]:<15} | Tempo = {tempo_execucao:.6f} segundos\")"
   ]
  }
 ],
 "metadata": {
  "kernelspec": {
   "display_name": "Python 3",
   "language": "python",
   "name": "python3"
  },
  "language_info": {
   "codemirror_mode": {
    "name": "ipython",
    "version": 3
   },
   "file_extension": ".py",
   "mimetype": "text/x-python",
   "name": "python",
   "nbconvert_exporter": "python",
   "pygments_lexer": "ipython3",
   "version": "3.11.7"
  }
 },
 "nbformat": 4,
 "nbformat_minor": 2
}
