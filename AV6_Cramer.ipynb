{
 "cells": [
  {
   "cell_type": "markdown",
   "metadata": {},
   "source": [
    "Considere um sistema de equações lineares com duas equações e duas incógnitas:\n",
    "\n",
    "ax+by=e\n",
    "\n",
    "cx+dy=f"
   ]
  },
  {
   "cell_type": "markdown",
   "metadata": {},
   "source": [
    "a)\n",
    "Escreva um programa que recebe como entrada os coeficientes a,b,c,d,e,f e resolve o sistema acima utilizando a regra de Cramer, que afirma:\n",
    "\n",
    "x=ed−bf / ad−bc\n",
    "\n",
    "y=af−ec / ad−bc\n",
    "\n",
    "Utilize o seu programa para resolver o seguinte sistema:\n",
    "\n",
    "{1.000x+1.000y=2.000\n",
    "\n",
    "1.000x+1.001y=2.001"
   ]
  },
  {
   "cell_type": "code",
   "execution_count": 1,
   "metadata": {},
   "outputs": [],
   "source": [
    "import numpy as np"
   ]
  },
  {
   "cell_type": "code",
   "execution_count": 4,
   "metadata": {},
   "outputs": [
    {
     "name": "stdout",
     "output_type": "stream",
     "text": [
      "x = 1.000000\n",
      "y = 1.000000\n"
     ]
    }
   ],
   "source": [
    "def resolvendo_cramer(a, b, c, d, e, f):\n",
    "    '''\n",
    "    Resolve um sistema 2x2 usando a Regra de Cramer:\n",
    "\n",
    "    x=ed−bf / ad−bc\n",
    "\n",
    "    y=af−ec / ad−bc\n",
    "\n",
    "    ax + by = e\n",
    "    cx + dy = f\n",
    "    '''\n",
    "    # Calculando os denominadores e numeradores\n",
    "    denominador = ((a*d)-(b*c))\n",
    "    \n",
    "    numeradorX = ((e*d)-(b*f))\n",
    "\n",
    "    numeradorY = ((a*f)-(e*c))\n",
    "\n",
    "    x = numeradorX / denominador\n",
    "    y = numeradorY / denominador\n",
    "\n",
    "    return x, y\n",
    "\n",
    "\n",
    "# Coeficientes do sistema:\n",
    "# 1.000x + 1.000y = 2.000\n",
    "# 1.000x + 1.001y = 2.001\n",
    "\n",
    "a, b, c, d, e, f = 1.000, 1.000, 1.000, 1.001, 2.000, 2.001\n",
    "\n",
    "# Resolvendo o sistema\n",
    "resultado = resolvendo_cramer(a, b, c, d, e, f)\n",
    "\n",
    "x, y = resultado\n",
    "print(f\"x = {x:.6f}\")\n",
    "print(f\"y = {y:.6f}\")"
   ]
  },
  {
   "cell_type": "markdown",
   "metadata": {},
   "source": [
    "b) Altere seu programa para também resolver o sistema utilizando uma biblioteca de álgebra linear da linguagem (por exemplo, numpy.linalg.solve no Python ou linsolve no MATLAB). Compare os resultados numéricos obtidos por Cramer e pela biblioteca.\n",
    "\n",
    "Você observa alguma diferença? Como explica isso?\n",
    "\n",
    "Resposta: Sim, com o uso de np.linalg.solve, evita erros numericos que podem surgir com o uso da regra de Cramer com determinantes e funciona para sistemas N dimensional"
   ]
  },
  {
   "cell_type": "code",
   "execution_count": 3,
   "metadata": {},
   "outputs": [
    {
     "name": "stdout",
     "output_type": "stream",
     "text": [
      "x = 1.000000\n",
      "y = 1.000000\n"
     ]
    }
   ],
   "source": [
    "#matrix dos coeficientes A\n",
    "A = np.array([[1.000, 1.000],\n",
    "              [1.000, 1.001]])\n",
    "\n",
    "# vetor dos termos independentes B\n",
    "B = np.array([2.000, 2.001])\n",
    "\n",
    "# Resolvendo o sistema\n",
    "solucao = np.linalg.solve(A, B)\n",
    "x, y = solucao\n",
    "print(f\"x = {x:.6f}\")\n",
    "print(f\"y = {y:.6f}\")\n"
   ]
  },
  {
   "cell_type": "markdown",
   "metadata": {},
   "source": [
    "c) Experimente resolver o sistema com diferentes pequenas variações nos coeficientes (por exemplo, mude o coeficiente d=1.001 para 1.0001 ou 1.00001). O que você observa? Como a solução se comporta?\n",
    "\n",
    "Que apesar da diferença ser de pequena é visivel a varias casas decimais e aumenta os erros de entrada limitando a precisão do resultado pelo proprio sistema"
   ]
  },
  {
   "cell_type": "code",
   "execution_count": 5,
   "metadata": {},
   "outputs": [
    {
     "name": "stdout",
     "output_type": "stream",
     "text": [
      "\n",
      "d = 1.001\n",
      "x = 1.0000000000\n",
      "y = 1.0000000000\n",
      "Número de condição: 4002.00\n",
      "\n",
      "d = 1.0001\n",
      "x = -8.0000000000\n",
      "y = 10.0000000000\n",
      "Número de condição: 40002.00\n",
      "\n",
      "d = 1.00001\n",
      "x = -97.9999999993\n",
      "y = 99.9999999993\n",
      "Número de condição: 400002.00\n"
     ]
    }
   ],
   "source": [
    "# valores\n",
    "a, b, c, e, f = 1.000, 1.000, 1.000, 2.000, 2.001\n",
    "\n",
    "# Diferentes valores de d\n",
    "valores_d = [1.001, 1.0001, 1.00001]\n",
    "\n",
    "for d in valores_d:\n",
    "    A = np.array([[a, b],\n",
    "                  [c, d]])\n",
    "    B = np.array([e, f])\n",
    "\n",
    "    solucao = np.linalg.solve(A, B)\n",
    "    cond = np.linalg.cond(A)\n",
    "    print(f\"\\nd = {d}\")\n",
    "    print(f\"x = {solucao[0]:.10f}\")\n",
    "    print(f\"y = {solucao[1]:.10f}\")\n",
    "    print(f\"Número de condição: {cond:.2f}\")"
   ]
  }
 ],
 "metadata": {
  "kernelspec": {
   "display_name": "Python 3",
   "language": "python",
   "name": "python3"
  },
  "language_info": {
   "codemirror_mode": {
    "name": "ipython",
    "version": 3
   },
   "file_extension": ".py",
   "mimetype": "text/x-python",
   "name": "python",
   "nbconvert_exporter": "python",
   "pygments_lexer": "ipython3",
   "version": "3.11.7"
  }
 },
 "nbformat": 4,
 "nbformat_minor": 2
}
